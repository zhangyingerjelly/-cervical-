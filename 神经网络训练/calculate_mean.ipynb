{
 "cells": [
  {
   "cell_type": "code",
   "execution_count": 2,
   "metadata": {},
   "outputs": [],
   "source": [
    "import numpy as np\n",
    "import cv2\n",
    "import os\n",
    "import glob"
   ]
  },
  {
   "cell_type": "code",
   "execution_count": 3,
   "metadata": {},
   "outputs": [
    {
     "name": "stdout",
     "output_type": "stream",
     "text": [
      "means\n",
      "[0.59406382 0.38181006 0.33691596]\n",
      "stdevs\n",
      "[0.15077865 0.14043192 0.12225545]\n"
     ]
    }
   ],
   "source": [
    "path='/home/are/data_cervical/pytorch_running/3_data/caijian2/train/'\n",
    "files=glob.glob(os.path.join(path,'*/*.jpg'))\n",
    "num_img=0\n",
    "means,stdevs=[0,0,0],[0,0,0]\n",
    "for file in files:\n",
    "    num_img+=1\n",
    "    img=cv2.imread(file)\n",
    "    img=img.astype(np.float32)/255\n",
    "    for i in range(3):\n",
    "       \n",
    "        means[i]+=img[:,:,i].mean()\n",
    "        stdevs[i]+=img[:,:,i].std()\n",
    "        \n",
    "        \n",
    "    \n",
    "means.reverse() #cv2 :BGR  ---> RGB\n",
    "stdevs.reverse() \n",
    "means=np.asarray(means)/num_img\n",
    "stdevs=np.asarray(stdevs)/num_img\n",
    "print('means')\n",
    "print(means)\n",
    "print('stdevs')\n",
    "print(stdevs)"
   ]
  },
  {
   "cell_type": "code",
   "execution_count": null,
   "metadata": {},
   "outputs": [],
   "source": []
  }
 ],
 "metadata": {
  "kernelspec": {
   "display_name": "Python 3",
   "language": "python",
   "name": "python3"
  },
  "language_info": {
   "codemirror_mode": {
    "name": "ipython",
    "version": 3
   },
   "file_extension": ".py",
   "mimetype": "text/x-python",
   "name": "python",
   "nbconvert_exporter": "python",
   "pygments_lexer": "ipython3",
   "version": "3.5.4"
  }
 },
 "nbformat": 4,
 "nbformat_minor": 2
}
